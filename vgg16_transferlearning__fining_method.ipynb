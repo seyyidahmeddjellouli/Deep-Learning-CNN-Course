{
  "nbformat": 4,
  "nbformat_minor": 0,
  "metadata": {
    "colab": {
      "provenance": [],
      "authorship_tag": "ABX9TyORUrTjSYEEMWNF+M79eHMq",
      "include_colab_link": true
    },
    "kernelspec": {
      "name": "python3",
      "display_name": "Python 3"
    },
    "language_info": {
      "name": "python"
    }
  },
  "cells": [
    {
      "cell_type": "markdown",
      "metadata": {
        "id": "view-in-github",
        "colab_type": "text"
      },
      "source": [
        "<a href=\"https://colab.research.google.com/github/seyyidahmeddjellouli/Deep-Learning-CNN-Course/blob/main/vgg16_transferlearning__fining_method.ipynb\" target=\"_parent\"><img src=\"https://colab.research.google.com/assets/colab-badge.svg\" alt=\"Open In Colab\"/></a>"
      ]
    },
    {
      "cell_type": "code",
      "source": [
        "import tensorflow as tf\n",
        "from tensorflow.keras import layers, models\n",
        "from tensorflow.keras.datasets import cifar10\n",
        "from tensorflow.keras.utils import to_categorical\n",
        "\n",
        "# Load and preprocess the CIFAR-10 dataset\n",
        "(train_images, train_labels), (test_images, test_labels) = cifar10.load_data()\n",
        "\n",
        "# Normalize pixel values to be between 0 and 1\n",
        "train_images = train_images.astype('float32') / 255\n",
        "test_images = test_images.astype('float32') / 255\n",
        "\n",
        "# One-hot encode the labels\n",
        "train_labels = to_categorical(train_labels)\n",
        "test_labels = to_categorical(test_labels)\n",
        "\n",
        "# Load pre-trained VGG16 model without top (fully connected) layers\n",
        "base_model = tf.keras.applications.VGG16(weights='imagenet', include_top=False, input_shape=(32, 32, 3))\n",
        "\n",
        "# Create a custom top (fully connected) layer for classification\n",
        "top_model = models.Sequential([\n",
        "    layers.Flatten(input_shape=base_model.output_shape[1:]),\n",
        "    layers.Dense(256, activation='relu'),\n",
        "    layers.Dropout(0.5),\n",
        "    layers.Dense(10, activation='softmax')  # 10 output classes for CIFAR-10\n",
        "])\n",
        "\n",
        "# Combine the base and top models\n",
        "model = models.Sequential([base_model, top_model])\n",
        "\n",
        "# Freeze the weights of the pre-trained layers (optional)\n",
        "for layer in base_model.layers:\n",
        "    layer.trainable = False\n",
        "\n",
        "# Compile the model\n",
        "model.compile(optimizer='adam',\n",
        "              loss='categorical_crossentropy',\n",
        "              metrics=['accuracy'])\n",
        "\n",
        "# Train the model on the CIFAR-10 dataset\n",
        "model.fit(train_images, train_labels, epochs=5, batch_size=32, validation_split=0.2)\n",
        "\n",
        "# Evaluate the model on the test data\n",
        "test_loss, test_acc = model.evaluate(test_images, test_labels)\n",
        "print(\"Test accuracy:\", test_acc)\n"
      ],
      "metadata": {
        "colab": {
          "base_uri": "https://localhost:8080/"
        },
        "id": "E6b_cGRFMQHS",
        "outputId": "d9b3d4af-8ac3-4221-d7c2-ec1b01e41b9a"
      },
      "execution_count": 1,
      "outputs": [
        {
          "output_type": "stream",
          "name": "stdout",
          "text": [
            "Downloading data from https://www.cs.toronto.edu/~kriz/cifar-10-python.tar.gz\n",
            "170498071/170498071 [==============================] - 4s 0us/step\n",
            "Downloading data from https://storage.googleapis.com/tensorflow/keras-applications/vgg16/vgg16_weights_tf_dim_ordering_tf_kernels_notop.h5\n",
            "58889256/58889256 [==============================] - 0s 0us/step\n",
            "Epoch 1/5\n",
            "1250/1250 [==============================] - 585s 467ms/step - loss: 1.5164 - accuracy: 0.4654 - val_loss: 1.2809 - val_accuracy: 0.5563\n",
            "Epoch 2/5\n",
            "1250/1250 [==============================] - 595s 476ms/step - loss: 1.3132 - accuracy: 0.5381 - val_loss: 1.2220 - val_accuracy: 0.5665\n",
            "Epoch 3/5\n",
            "1250/1250 [==============================] - 593s 475ms/step - loss: 1.2546 - accuracy: 0.5597 - val_loss: 1.1786 - val_accuracy: 0.5868\n",
            "Epoch 4/5\n",
            "1250/1250 [==============================] - 594s 475ms/step - loss: 1.2181 - accuracy: 0.5707 - val_loss: 1.1606 - val_accuracy: 0.5953\n",
            "Epoch 5/5\n",
            "1250/1250 [==============================] - 593s 475ms/step - loss: 1.1932 - accuracy: 0.5817 - val_loss: 1.1587 - val_accuracy: 0.5941\n",
            "313/313 [==============================] - 112s 359ms/step - loss: 1.1684 - accuracy: 0.5935\n",
            "Test accuracy: 0.593500018119812\n"
          ]
        }
      ]
    }
  ]
}